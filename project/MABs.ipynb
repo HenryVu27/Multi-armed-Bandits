{
 "cells": [
  {
   "cell_type": "code",
   "execution_count": 65,
   "metadata": {},
   "outputs": [
    {
     "data": {
      "text/plain": [
       "'%.4f'"
      ]
     },
     "execution_count": 65,
     "metadata": {},
     "output_type": "execute_result"
    }
   ],
   "source": [
    "import numpy as np\n",
    "from abc import ABC, abstractmethod\n",
    "import matplotlib.pyplot as plt\n",
    "from numpy.linalg import inv\n",
    "\n",
    "%matplotlib inline\n",
    "%precision 4"
   ]
  },
  {
   "cell_type": "markdown",
   "metadata": {},
   "source": [
    "# 1. Base MAB Class\n"
   ]
  },
  {
   "cell_type": "code",
   "execution_count": 28,
   "metadata": {},
   "outputs": [],
   "source": [
    "class MAB(ABC):\n",
    "    \"\"\"\n",
    "    Base class for a MAB instance\n",
    "    \n",
    "    Parameters\n",
    "    ----------\n",
    "    num_arms : int\n",
    "        Number of arms.\n",
    "    \"\"\"\n",
    "    def __init__(self, num_arms):\n",
    "        self.num_arms = num_arms\n",
    "        \n",
    "    @abstractmethod\n",
    "    def play(self, context=None):\n",
    "        \"\"\"\n",
    "        Play an arm\n",
    "        \n",
    "        Parameters\n",
    "        ----------        \n",
    "        context : float numpy.ndarray, shape = (n_arms, n_dims)\n",
    "            An array of context vectors.\n",
    "            e-greedy and UCB bandits have context = None. \n",
    "        Returns\n",
    "        -------\n",
    "        arm : int\n",
    "            Index of arm.\n",
    "        \"\"\"\n",
    "        self.context = context\n",
    "\n",
    "    \n",
    "    @abstractmethod\n",
    "    def update(self, arm, reward, context):\n",
    "        \"\"\"\n",
    "        Update arm parameters\n",
    "        \n",
    "        Parameters\n",
    "        ----------\n",
    "        arm : int\n",
    "            Index of arm.\n",
    "        \n",
    "        reward : float\n",
    "            Reward received from the arm.\n",
    "        \n",
    "        context : float numpy.ndarray, shape = (n_arms, n_dims)\n",
    "            An array of context vectors.\n",
    "            e-greedy and UCB bandits have context = None. \n",
    "        \"\"\"\n",
    "        # Update parameters\n",
    "        self.arm = arm\n",
    "        self.reward = reward\n",
    "        self.context = context"
   ]
  },
  {
   "cell_type": "markdown",
   "metadata": {},
   "source": [
    "## 2. Load dataset\n",
    "The dataset `dataset.txt` contains 10,000 instances of users and news articles. Each instance comprises 102 space-delimited columns of integers:\n",
    " - Column 1: The arm played by a uniformly-random policy.\n",
    " - Column 2: The reward received from the arm played.\n",
    " - Columns 3-102: 100-dim flattened context vectors; 10 features per arm for 10 arms.\n"
   ]
  },
  {
   "cell_type": "code",
   "execution_count": 57,
   "metadata": {},
   "outputs": [
    {
     "name": "stdout",
     "output_type": "stream",
     "text": [
      "Number of arms is: 10\n",
      "Number of contexts for each arm is: 10\n",
      "Context vectors of 10 arms for the first instance is:\n",
      "[[ 5.  0.  0. 37.  6.  0.  0.  0.  0. 25.]\n",
      " [ 0.  0.  7.  1.  0.  0.  0. 13.  2.  0.]\n",
      " [ 0.  8.  0.  0.  0. 15. 29.  1.  1.  0.]\n",
      " [ 0.  0.  0.  1.  0.  0.  1.  0.  0.  0.]\n",
      " [ 0.  0.  3.  0.  0.  0.  0.  0.  0.  0.]\n",
      " [ 0.  0.  0.  4.  0.  0.  0.  0.  0.  0.]\n",
      " [ 0.  5.  2.  7.  0.  0.  0.  0. 11.  0.]\n",
      " [ 5.  0.  0.  0.  0.  0.  0.  3.  2.  0.]\n",
      " [ 0.  0.  0.  1.  2. 47.  0.  0.  1.  0.]\n",
      " [ 0.  0.  1.  3.  0.  0. 17. 30.  4.  0.]]\n"
     ]
    }
   ],
   "source": [
    "# load dataset and initialize arms, rewards and contexts vectors\n",
    "data = np.loadtxt(\"dataset.txt\")\n",
    "chosen_arms = data[:,0]\n",
    "rewards = data[:,1]\n",
    "contexts = data[:,2:]\n",
    "\n",
    "chosen_arms = chosen_arms.astype(int)\n",
    "rewards = rewards.astype(float)\n",
    "contexts = contexts.astype(float)\n",
    "num_arms = len(np.unique(chosen_arms))\n",
    "print(\"Number of arms is:\", num_arms)\n",
    "num_events = len(contexts)\n",
    "dim = int(len(contexts[0])/num_arms)\n",
    "print(\"Number of contexts for each arm is:\", dim)\n",
    "contexts = contexts.reshape(num_events, num_arms, dim)\n",
    "print(\"Context vectors of 10 arms for the first instance is:\")\n",
    "print(contexts[0])"
   ]
  },
  {
   "cell_type": "markdown",
   "metadata": {},
   "source": [
    "## Off-policy evaluation"
   ]
  },
  {
   "cell_type": "code",
   "execution_count": 53,
   "metadata": {},
   "outputs": [],
   "source": [
    "def OPE(mab, arms, rewards, contexts, n_rounds=10000):\n",
    "    \"\"\"\n",
    "    Offline evaluation of a MAB policy\n",
    "    \n",
    "    Parameters\n",
    "    ----------\n",
    "    mab : MAB \n",
    "        MAB instance to evaluate.\n",
    "    \n",
    "    arms : int numpy.ndarray\n",
    "        Array containing the history of pulled arms.\n",
    "    \n",
    "    rewards : float numpy.ndarray\n",
    "        Array containing the history of rewards.\n",
    "    \n",
    "    contexts : float numpy.ndarray\n",
    "        History of contexts presented to arms. \n",
    "        The 0-th axis indexes the events in the history.\n",
    "        Each event consists of 10 context vectors for the arms.\n",
    "        \n",
    "    n_rounds : int\n",
    "        Number of matching events to evaluate the MAB on. \n",
    "    \n",
    "    Returns\n",
    "    -------\n",
    "    out : float numpy.ndarray\n",
    "        Rewards for the matching events.\n",
    "    \"\"\"\n",
    "    t = 0         # current round\n",
    "    R = []        # total reward\n",
    "    history = []  # used historical events\n",
    "    \n",
    "    n_events = arms.shape[0]\n",
    "    for i in range(n_events):\n",
    "        if t == n_rounds:\n",
    "            break\n",
    "        chosen_arm = mab.play(contexts[i])\n",
    "        # update parameters and play only when chosen arm from bandit matches data\n",
    "        if chosen_arm == arms[i]:\n",
    "            R.append(rewards[i])\n",
    "            history.append([arms[i], rewards[i], contexts[i]])\n",
    "            mab.update(arms[i], rewards[i], contexts[i])\n",
    "            t += 1\n",
    "\n",
    "    out = np.array(R)        \n",
    "    return out "
   ]
  },
  {
   "cell_type": "markdown",
   "metadata": {},
   "source": [
    "# Non-contextual MABs"
   ]
  },
  {
   "cell_type": "markdown",
   "metadata": {},
   "source": [
    "### I. ε-greedy"
   ]
  },
  {
   "cell_type": "code",
   "execution_count": 58,
   "metadata": {},
   "outputs": [],
   "source": [
    "class EpsGreedy(MAB):\n",
    "    \"\"\"Epsilon-Greedy multi-armed bandit\n",
    "\n",
    "    Parameters\n",
    "    ----------\n",
    "    n_arms : int\n",
    "        Number of arms\n",
    "\n",
    "    epsilon : float\n",
    "        Explore probability. Must be in the interval [0, 1].\n",
    "\n",
    "    Q0 : float, default=np.inf\n",
    "        Initial value for the arms.\n",
    "    \"\"\"\n",
    "    # initialise values and raise input errors\n",
    "    def __init__(self, num_arms, epsilon, q0=np.inf):  \n",
    "        super().__init__(num_arms)\n",
    "        self.epsilon = epsilon\n",
    "        self.q = np.full(num_arms, q0)\n",
    "        self.rewards = np.zeros(num_arms)  # total rewards per arm\n",
    "        self.clicks = np.zeros(num_arms)   # number of times arm is chosen\n",
    "    \n",
    "    # ε-greedy policy\n",
    "    def play(self, context=None):\n",
    "        super().play(context)\n",
    "        if np.random.rand() < self.epsilon:\n",
    "            arm = np.random.randint(0, self.num_arms)\n",
    "        else:\n",
    "            arm = np.random.choice(np.where(self.q==max(self.q))[0])\n",
    "        return arm+1\n",
    "    \n",
    "    def update(self, arm, reward, context=None):\n",
    "        super().update(arm, reward, context)\n",
    "        self.clicks[arm] += 1\n",
    "        self.rewards[arm] += self.reward\n",
    "        self.q[arm] = self.rewards[arm]/self.clicks[arm]\n",
    "        "
   ]
  },
  {
   "cell_type": "code",
   "execution_count": 74,
   "metadata": {},
   "outputs": [
    {
     "name": "stdout",
     "output_type": "stream",
     "text": [
      "Epsilon-greedy average reward is: 0.2309\n"
     ]
    }
   ],
   "source": [
    "mab = EpsGreedy(num_arms, 0.1) \n",
    "results_EpsGreedy = OPE(mab, chosen_arms, rewards, contexts,)\n",
    "print('Epsilon-greedy average reward is: %.4f' % np.mean(results_EpsGreedy))"
   ]
  },
  {
   "cell_type": "markdown",
   "metadata": {},
   "source": [
    "### II. Upper Confidence Bound (UCB)"
   ]
  },
  {
   "cell_type": "code",
   "execution_count": 54,
   "metadata": {},
   "outputs": [],
   "source": [
    "class UCB(MAB):\n",
    "    \"\"\"Upper Confidence Bound (UCB) multi-armed bandit\n",
    "\n",
    "    Parameters\n",
    "    ----------\n",
    "    n_arms : int\n",
    "        Number of arms.\n",
    "\n",
    "    rho : float\n",
    "        Positive real explore-exploit parameter.\n",
    "\n",
    "    Q0 : float, default=np.inf\n",
    "        Initial value for the arms.\n",
    "    \"\"\"\n",
    "    def __init__(self, n_arms, rho, Q0=np.inf):\n",
    "        super().__init__(n_arms)\n",
    "        if not rho > 0:\n",
    "            raise ValueError(\"`rho` must be positive\")\n",
    "        if not (type(rho) == float and np.isreal(rho)):\n",
    "            raise TypeError(\"`rho` must be real float\")\n",
    "        if not type(Q0) == float :\n",
    "            raise TypeError(\"`Q0` must be a float number or default value 'np.inf'\")\n",
    "            \n",
    "        self.rho = rho\n",
    "        self.q = np.full(n_arms, Q0)\n",
    "        self.rewards = np.zeros(n_arms)  \n",
    "        self.avg_rewards = np.zeros(n_arms)\n",
    "        self.clicks = np.zeros(n_arms)\n",
    "        self.round = 0        # to count the number of round played\n",
    "    \n",
    "    def play(self, context=None):\n",
    "        super().play(context)\n",
    "        self.round += 1\n",
    "        self.q = np.where(self.clicks != 0, self.avg_rewards + np.sqrt(self.rho * np.log10(self.round) / self.clicks), self.q)\n",
    "\n",
    "        arm = break_tie(self.q)\n",
    "        \n",
    "        return int(arm)\n",
    "        \n",
    "    def update(self, arm, reward, context=None):\n",
    "        super().update(arm, reward, context)\n",
    "        self.clicks[arm] += 1\n",
    "        self.rewards[arm] += reward\n",
    "        self.avg_rewards[arm] = self.rewards[arm]/ self.clicks[arm]\n",
    "        "
   ]
  },
  {
   "cell_type": "code",
   "execution_count": 9,
   "metadata": {},
   "outputs": [
    {
     "data": {
      "text/plain": [
       "{'divide': 'warn', 'over': 'warn', 'under': 'ignore', 'invalid': 'warn'}"
      ]
     },
     "execution_count": 9,
     "metadata": {},
     "output_type": "execute_result"
    }
   ],
   "source": [
    "# warning control\n",
    "np.seterr(divide='ignore', invalid='ignore')"
   ]
  },
  {
   "cell_type": "code",
   "execution_count": 10,
   "metadata": {},
   "outputs": [
    {
     "name": "stdout",
     "output_type": "stream",
     "text": [
      "UCB average reward 0.18657453109575517\n"
     ]
    }
   ],
   "source": [
    "mab = UCB(num_arms, 1.0)\n",
    "results_UCB = offlineEvaluate(mab, arms, rewards, contexts,)\n",
    "print('UCB average reward', np.mean(results_UCB))\n"
   ]
  },
  {
   "cell_type": "code",
   "execution_count": 20,
   "metadata": {},
   "outputs": [
    {
     "data": {
      "image/png": "[encoded data removed]",
      "text/plain": [
       "<Figure size 576x360 with 1 Axes>"
      ]
     },
     "metadata": {
      "needs_background": "light"
     },
     "output_type": "display_data"
    }
   ],
   "source": [
    "#  place holder code\n",
    "best_lin_results, best_ker_results, round_list = [], [], []        # create lists for results\n",
    "n_rounds = 800                                                     # the total number of rounds \n",
    "best_lin_sum, best_ker_sum = 0, 0                                  # set the initial reward sum\n",
    "\n",
    "best_lin_mab = LinUCB(10, 10, best_alpha)\n",
    "best_results_LinUCB = offlineEvaluate(best_lin_mab, arms, rewards, contexts,800)\n",
    "\n",
    "# run UCB algorithms\n",
    "best_kernel_mab = KernelUCB(10, 10, best_gamma, best_eta , rbf_kernel)\n",
    "best_results_KernelUCB = offlineEvaluate(best_kernel_mab, arms, rewards, contexts, 800)\n",
    "\n",
    "for n_round in range(1, n_rounds + 1):\n",
    "    best_lin_sum += best_results_LinUCB[n_round-1] \n",
    "    best_ker_sum += best_results_KernelUCB[n_round-1]\n",
    "    \n",
    "    # append ccumulative rewards\n",
    "    best_lin_results.append(best_lin_sum/n_round)\n",
    "    best_ker_results.append(best_ker_sum/n_round)\n",
    "    round_list.append(n_round)\n",
    "\n",
    "# plot \n",
    "plt.rcParams[\"figure.figsize\"] = (8,5)\n",
    "plt.plot(round_list, best_lin_results, label = \"LinUCB\")\n",
    "plt.plot(round_list, best_ker_results, label = \"kernelUCB\")\n",
    "\n",
    "plt.ylabel('Cumulative Reward Per-Round')\n",
    "plt.xlabel('Rounds')\n",
    "plt.legend()\n",
    "plt.show()"
   ]
  }
 ],
 "metadata": {
  "kernelspec": {
   "display_name": "Python 3",
   "language": "python",
   "name": "python3"
  },
  "language_info": {
   "codemirror_mode": {
    "name": "ipython",
    "version": 3
   },
   "file_extension": ".py",
   "mimetype": "text/x-python",
   "name": "python",
   "nbconvert_exporter": "python",
   "pygments_lexer": "ipython3",
   "version": "3.11.4"
  }
 },
 "nbformat": 4,
 "nbformat_minor": 4
}
